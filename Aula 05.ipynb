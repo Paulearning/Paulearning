{
 "cells": [
  {
   "cell_type": "markdown",
   "id": "0effbe4c-df3a-4086-b313-2606c81e00ff",
   "metadata": {},
   "source": [
    "# Aula de álgebra Linear - vetores"
   ]
  },
  {
   "cell_type": "markdown",
   "id": "cdbae31d-6a89-4505-9cbe-5616dbbb99cf",
   "metadata": {},
   "source": [
    "## Vamos começar definindo uma variável"
   ]
  },
  {
   "cell_type": "markdown",
   "id": "85aed245-8e5e-4d42-8235-1f389c9e05b0",
   "metadata": {},
   "source": [
    "### No python é possível fazer cálculos de maneira direta"
   ]
  },
  {
   "cell_type": "code",
   "execution_count": null,
   "id": "cf42cc50-1468-405f-bd8d-4d66e059b4f7",
   "metadata": {},
   "outputs": [],
   "source": [
    "5*3"
   ]
  },
  {
   "cell_type": "markdown",
   "id": "74936738-c82c-4fed-9ee9-f8f51e1ec5c7",
   "metadata": {},
   "source": [
    "### Normalmente é melhor atribuir cada valor a uma variável, e depois pedir o cálculo"
   ]
  },
  {
   "cell_type": "code",
   "execution_count": 7,
   "id": "bdbe78b5-1b16-4945-818b-f10c630dc366",
   "metadata": {},
   "outputs": [],
   "source": [
    "x = 5\n",
    "y = 3"
   ]
  },
  {
   "cell_type": "code",
   "execution_count": null,
   "id": "57170b2b-ac9b-4bc9-bdbe-52b10aec3fbd",
   "metadata": {},
   "outputs": [],
   "source": [
    "x*y"
   ]
  },
  {
   "cell_type": "markdown",
   "id": "649d08b6-aae3-41f5-bdd6-9a4683bdd8b5",
   "metadata": {},
   "source": [
    "### Mas como fazer para atribuir valores a vetores no python?"
   ]
  },
  {
   "cell_type": "code",
   "execution_count": 2,
   "id": "da59bd35",
   "metadata": {},
   "outputs": [],
   "source": [
    "a = [1,2]"
   ]
  },
  {
   "cell_type": "code",
   "execution_count": 10,
   "id": "e443b40c",
   "metadata": {},
   "outputs": [],
   "source": [
    "b = [0,3]"
   ]
  },
  {
   "cell_type": "code",
   "execution_count": null,
   "id": "2c0d5f6f-b48e-4f44-a69a-98220846ccab",
   "metadata": {},
   "outputs": [],
   "source": [
    "a[0]"
   ]
  },
  {
   "cell_type": "code",
   "execution_count": 15,
   "id": "5efa5943",
   "metadata": {},
   "outputs": [
    {
     "data": {
      "text/plain": [
       "2"
      ]
     },
     "execution_count": 15,
     "metadata": {},
     "output_type": "execute_result"
    }
   ],
   "source": [
    "a[1]"
   ]
  },
  {
   "cell_type": "code",
   "execution_count": null,
   "id": "062f0c4c-9dd3-4c80-b550-eb383842847a",
   "metadata": {},
   "outputs": [],
   "source": [
    "a+b"
   ]
  },
  {
   "cell_type": "markdown",
   "id": "067264fc",
   "metadata": {},
   "source": [
    "## Produto Escalar"
   ]
  },
  {
   "cell_type": "markdown",
   "id": "7275ce50-009e-4560-a4ef-705d6a7c84d0",
   "metadata": {},
   "source": [
    "### O python tem uma biblioteca, a numpy, que tem uma função que resolve o produto escalar"
   ]
  },
  {
   "cell_type": "code",
   "execution_count": 36,
   "id": "ebd2708a",
   "metadata": {},
   "outputs": [
    {
     "name": "stdout",
     "output_type": "stream",
     "text": [
      "6\n"
     ]
    }
   ],
   "source": [
    "import numpy as np\n",
    "\n",
    "vetor1 = np.array([1, 2])\n",
    "vetor2 = np.array([0,3])\n",
    "\n",
    "produto_escalar = np.inner(vetor1, vetor2)\n",
    "print(produto_escalar)"
   ]
  },
  {
   "cell_type": "markdown",
   "id": "b74d9ba2-bc2d-450b-9301-4e1594009d47",
   "metadata": {},
   "source": [
    "### E também uma função para calcular o módulo de um vetor"
   ]
  },
  {
   "cell_type": "code",
   "execution_count": 32,
   "id": "3629e2db",
   "metadata": {},
   "outputs": [
    {
     "name": "stdout",
     "output_type": "stream",
     "text": [
      "O módulo do vetor é: 2.24\n"
     ]
    }
   ],
   "source": [
    "modulo = np.linalg.norm(vetor1)\n",
    "print(f\"O módulo do vetor é: {modulo:.2f}\")"
   ]
  },
  {
   "cell_type": "markdown",
   "id": "ca87cbf6-140f-44c9-b1ed-8cec972ea201",
   "metadata": {},
   "source": [
    "### Como multiplicar um escalar por um vetor?"
   ]
  },
  {
   "cell_type": "code",
   "execution_count": 31,
   "id": "6a7a78e9",
   "metadata": {},
   "outputs": [
    {
     "data": {
      "text/plain": [
       "array([2, 4])"
      ]
     },
     "execution_count": 31,
     "metadata": {},
     "output_type": "execute_result"
    }
   ],
   "source": [
    "k = 2\n",
    "vetor_a = k*vetor1\n",
    "vetor_a"
   ]
  },
  {
   "cell_type": "markdown",
   "id": "824be378-d0b2-40e7-ae1f-ff4e2a2fa948",
   "metadata": {},
   "source": [
    "### Para calcular o ângulo entre dois vetores, precisamos v"
   ]
  },
  {
   "cell_type": "code",
   "execution_count": 37,
   "id": "82c4e263",
   "metadata": {},
   "outputs": [
    {
     "name": "stdout",
     "output_type": "stream",
     "text": [
      "Ângulo entre os vetores: 12.93 graus\n"
     ]
    }
   ],
   "source": [
    "import numpy as np\n",
    "\n",
    "def calcular_angulo_numpy(vetor1, vetor2):\n",
    "    cos_theta = np.dot(vetor1, vetor2) / (np.linalg.norm(vetor1) * np.linalg.norm(vetor2))\n",
    "    angulo_radianos = np.arccos(cos_theta)\n",
    "    angulo_graus = np.degrees(angulo_radianos)\n",
    "    return angulo_graus\n",
    "\n",
    "# Exemplo de uso\n",
    "vetor_a = np.array([1, 2, 3])\n",
    "vetor_b = np.array([4, 5, 6])\n",
    "angulo = calcular_angulo_numpy(vetor_a, vetor_b)\n",
    "print(f\"Ângulo entre os vetores: {angulo:.2f} graus\")"
   ]
  },
  {
   "cell_type": "markdown",
   "id": "f15d3def",
   "metadata": {},
   "source": [
    "# Produto Vetorial"
   ]
  },
  {
   "cell_type": "code",
   "execution_count": 23,
   "id": "5b056484",
   "metadata": {},
   "outputs": [
    {
     "name": "stdout",
     "output_type": "stream",
     "text": [
      "[-3  6 -3]\n"
     ]
    }
   ],
   "source": [
    "import numpy as np\n",
    "\n",
    "vetor1 = np.array([1, 2, 3])\n",
    "vetor2 = np.array([4, 5, 6])\n",
    "\n",
    "vetor_3 = np.cross(vetor1, vetor2)\n",
    "print(produto_vetorial)"
   ]
  },
  {
   "cell_type": "code",
   "execution_count": 27,
   "id": "4812a6a3",
   "metadata": {},
   "outputs": [
    {
     "data": {
      "text/plain": [
       "array([  6,  -3, -12])"
      ]
     },
     "execution_count": 27,
     "metadata": {},
     "output_type": "execute_result"
    }
   ],
   "source": [
    "vetor4 = np.cross(vetor_3,vetor1)\n",
    "vetor4"
   ]
  },
  {
   "cell_type": "code",
   "execution_count": null,
   "id": "eba05a85",
   "metadata": {},
   "outputs": [],
   "source": []
  }
 ],
 "metadata": {
  "kernelspec": {
   "display_name": "Python 3 (ipykernel)",
   "language": "python",
   "name": "python3"
  },
  "language_info": {
   "codemirror_mode": {
    "name": "ipython",
    "version": 3
   },
   "file_extension": ".py",
   "mimetype": "text/x-python",
   "name": "python",
   "nbconvert_exporter": "python",
   "pygments_lexer": "ipython3",
   "version": "3.12.4"
  }
 },
 "nbformat": 4,
 "nbformat_minor": 5
}
